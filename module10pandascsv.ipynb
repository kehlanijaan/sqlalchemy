{
 "cells": [
  {
   "cell_type": "code",
   "execution_count": 60,
   "id": "abb6cba5-b0d4-499c-a74a-b42e91cfb2d5",
   "metadata": {},
   "outputs": [
    {
     "data": {
      "text/html": [
       "<div>\n",
       "<style scoped>\n",
       "    .dataframe tbody tr th:only-of-type {\n",
       "        vertical-align: middle;\n",
       "    }\n",
       "\n",
       "    .dataframe tbody tr th {\n",
       "        vertical-align: top;\n",
       "    }\n",
       "\n",
       "    .dataframe thead th {\n",
       "        text-align: right;\n",
       "    }\n",
       "</style>\n",
       "<table border=\"1\" class=\"dataframe\">\n",
       "  <thead>\n",
       "    <tr style=\"text-align: right;\">\n",
       "      <th></th>\n",
       "      <th>station</th>\n",
       "      <th>date</th>\n",
       "      <th>prcp</th>\n",
       "      <th>tobs</th>\n",
       "    </tr>\n",
       "  </thead>\n",
       "  <tbody>\n",
       "    <tr>\n",
       "      <th>0</th>\n",
       "      <td>USC00519397</td>\n",
       "      <td>01/01/2010</td>\n",
       "      <td>0.08</td>\n",
       "      <td>65</td>\n",
       "    </tr>\n",
       "    <tr>\n",
       "      <th>1</th>\n",
       "      <td>USC00519397</td>\n",
       "      <td>02/01/2010</td>\n",
       "      <td>0.00</td>\n",
       "      <td>63</td>\n",
       "    </tr>\n",
       "    <tr>\n",
       "      <th>2</th>\n",
       "      <td>USC00519397</td>\n",
       "      <td>03/01/2010</td>\n",
       "      <td>0.00</td>\n",
       "      <td>74</td>\n",
       "    </tr>\n",
       "    <tr>\n",
       "      <th>3</th>\n",
       "      <td>USC00519397</td>\n",
       "      <td>04/01/2010</td>\n",
       "      <td>0.00</td>\n",
       "      <td>76</td>\n",
       "    </tr>\n",
       "    <tr>\n",
       "      <th>4</th>\n",
       "      <td>USC00519397</td>\n",
       "      <td>06/01/2010</td>\n",
       "      <td>NaN</td>\n",
       "      <td>73</td>\n",
       "    </tr>\n",
       "  </tbody>\n",
       "</table>\n",
       "</div>"
      ],
      "text/plain": [
       "       station        date  prcp  tobs\n",
       "0  USC00519397  01/01/2010  0.08    65\n",
       "1  USC00519397  02/01/2010  0.00    63\n",
       "2  USC00519397  03/01/2010  0.00    74\n",
       "3  USC00519397  04/01/2010  0.00    76\n",
       "4  USC00519397  06/01/2010   NaN    73"
      ]
     },
     "execution_count": 60,
     "metadata": {},
     "output_type": "execute_result"
    }
   ],
   "source": [
    "import pandas as pd\n",
    "import matplotlib.pyplot as plt \n",
    "\n",
    "# Read the CSV file\n",
    "hawaii_data = pd.read_csv(r\"C:\\Users\\Kehlani\\Desktop\\/Resources/hawaii_measurements.csv\")\n",
    "\n",
    "#view the last 20 rows\n",
    "hawaii_data.head()"
   ]
  },
  {
   "cell_type": "code",
   "execution_count": 61,
   "id": "782e4ebb-03d7-4a2d-94b1-1f7f8690738c",
   "metadata": {},
   "outputs": [],
   "source": [
    "# read specific columns of csv file using Pandas\n",
    "hawaii_data = hawaii_data[['date', 'prcp']]"
   ]
  },
  {
   "cell_type": "code",
   "execution_count": 62,
   "id": "24ce7d4b-1e1e-48eb-8131-5e3c645681af",
   "metadata": {},
   "outputs": [],
   "source": [
    "df = pd.DataFrame(hawaii_data)"
   ]
  },
  {
   "cell_type": "code",
   "execution_count": 63,
   "id": "87ba8f8a-8143-4653-a747-1b6399836041",
   "metadata": {},
   "outputs": [],
   "source": [
    "X = list(df.iloc[:, 0])\n",
    "Y = list(df.iloc[:, 1])"
   ]
  },
  {
   "cell_type": "code",
   "execution_count": 64,
   "id": "440f0f80-0c46-4dd7-9563-34439eac484e",
   "metadata": {},
   "outputs": [
    {
     "data": {
      "text/plain": [
       "Text(0, 0.5, 'Inches')"
      ]
     },
     "execution_count": 64,
     "metadata": {},
     "output_type": "execute_result"
    },
    {
     "data": {
      "image/png": "[encoded data removed]",
      "text/plain": [
       "<Figure size 640x480 with 1 Axes>"
      ]
     },
     "metadata": {},
     "output_type": "display_data"
    }
   ],
   "source": [
    "# Plot the data using bar() method\n",
    "plt.bar(X, Y, color='g')\n",
    "plt.title(\"precipitation\")\n",
    "plt.xlabel(\"Date\")\n",
    "plt.ylabel(\"Inches\")"
   ]
  },
  {
   "cell_type": "code",
   "execution_count": 65,
   "id": "4b5bd0ee-3a4d-4f19-99ee-dc07770028b4",
   "metadata": {},
   "outputs": [],
   "source": [
    "# Show the plot\n",
    "plt.show()"
   ]
  },
  {
   "cell_type": "code",
   "execution_count": null,
   "id": "b9bcdc8b-b384-45d9-a858-31158e52aaa0",
   "metadata": {},
   "outputs": [],
   "source": []
  }
 ],
 "metadata": {
  "kernelspec": {
   "display_name": "my-python3-kernel",
   "language": "python",
   "name": "my-python3-kernel"
  },
  "language_info": {
   "codemirror_mode": {
    "name": "ipython",
    "version": 3
   },
   "file_extension": ".py",
   "mimetype": "text/x-python",
   "name": "python",
   "nbconvert_exporter": "python",
   "pygments_lexer": "ipython3",
   "version": "3.11.5"
  }
 },
 "nbformat": 4,
 "nbformat_minor": 5
}
